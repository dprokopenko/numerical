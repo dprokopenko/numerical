{
 "nbformat": 4,
 "nbformat_minor": 2,
 "metadata": {
  "language_info": {
   "name": "python",
   "codemirror_mode": {
    "name": "ipython",
    "version": 3
   },
   "version": "3.8.2-final"
  },
  "orig_nbformat": 2,
  "file_extension": ".py",
  "mimetype": "text/x-python",
  "name": "python",
  "npconvert_exporter": "python",
  "pygments_lexer": "ipython3",
  "version": 3,
  "kernelspec": {
   "name": "venv",
   "display_name": "venv"
  }
 },
 "cells": [
  {
   "cell_type": "code",
   "execution_count": 10,
   "metadata": {},
   "outputs": [],
   "source": [
    "import numpy as np"
   ]
  },
  {
   "cell_type": "markdown",
   "metadata": {},
   "source": [
    "# Численное интегрирование\n",
    "## Одномерные интегралы"
   ]
  },
  {
   "cell_type": "markdown",
   "metadata": {},
   "source": [
    "### Метод трапеций\n",
    "$$ \\int_{a}^b f(x)dx = h \\cdot \\left( \\frac{f(x_0)+f(x_n)}{2} + \\sum_{i=1}^{n-1} f(x_i) \\right) $$ \n",
    "$$ h=\\frac{b-a}{n} $$ "
   ]
  },
  {
   "cell_type": "code",
   "execution_count": 11,
   "metadata": {},
   "outputs": [],
   "source": [
    "def trapeze(a, b, func, n=100):\n",
    "    def coeff(n):\n",
    "        yield 0.5\n",
    "        for i in range(n - 1):\n",
    "            yield 1\n",
    "        yield 0.5\n",
    "\n",
    "    x = a\n",
    "    h = abs(b - a) / n\n",
    "    s = 0\n",
    "\n",
    "    for c in coeff(n):\n",
    "        s += c * func(x)\n",
    "        x += h\n",
    "\n",
    "    return s * h"
   ]
  },
  {
   "cell_type": "markdown",
   "metadata": {},
   "source": [
    "### Метод прямоугольников\n",
    "$$ \\int_a^b f(x)dx = h \\cdot \\sum_{i=1}^{n} f \\left( \\frac{x_{i-1}+x_i}{2} \\right) $$ \n",
    "$$ h=\\frac{b-a}{n} $$ \n",
    "Здесь коэффициент, на который домножается каждое слагаемое суммы, всегда равен единице."
   ]
  },
  {
   "cell_type": "code",
   "execution_count": 12,
   "metadata": {},
   "outputs": [],
   "source": [
    "def rectangle(a, b, func, n=100):\n",
    "    # c === 1\n",
    "    h = abs(b - a) / n\n",
    "    s = 0\n",
    "\n",
    "    for x in np.linspace(a, b, n + 1): # возвращает n+1 точку, равномерно разбивая [a,b]\n",
    "        s += func(x)\n",
    "\n",
    "    return s * h"
   ]
  },
  {
   "cell_type": "markdown",
   "metadata": {},
   "source": [
    "### Метод Симпсона\n",
    "$$ \\int_a^b f(x)dx = \\frac{h}{6} \\cdot \\Bigl( f_0 + f_{2n} + 2 \\cdot (f_2+f_4+f_6+ \\cdots +f_{2n-2} ) + 4 \\cdot (f_1+f_3+f_5+ \\cdots +f_{2n-1}) \\Bigr) $$ \n",
    "$$ h=\\frac{b-a}{2n} $$ "
   ]
  },
  {
   "cell_type": "code",
   "execution_count": 13,
   "metadata": {},
   "outputs": [],
   "source": [
    "def simpson(a, b, func, n=100):\n",
    "    # gives 1, 4, 2, 4, ..., 2, 4, 1\n",
    "    def coeff(n):\n",
    "        yield 1\n",
    "        for i in range(n - 1):\n",
    "            yield (4, 2)[i % 2]\n",
    "        yield 1\n",
    "\n",
    "    x = a\n",
    "    h = abs(b - a) / n\n",
    "    s = 0\n",
    "\n",
    "    for c in coeff(n):\n",
    "        s += c * func(x)\n",
    "        x += h\n",
    "\n",
    "    return s * (h / 6) * 2"
   ]
  },
  {
   "cell_type": "markdown",
   "metadata": {},
   "source": [
    "### Метод Гаусса\n",
    "$$ \\int_a^b f(x)dx = \\sum_{i=1}^{n} \\int_{x_{i-1}}^{x_i} f(x)dx = \\frac{h}{2} \\cdot \\sum_{i=0}^{n} \\left( f \\left( x_i+ \\frac{h}{2} - \\frac{h}{2 \\sqrt{3}} \\right) + f \\left( x_i+ \\frac{h}{2} + \\frac{h}{2 \\sqrt{3}} \\right) \\right) $$ \n",
    "$$ h=\\frac{b-a}{n} $$ "
   ]
  },
  {
   "cell_type": "code",
   "execution_count": 14,
   "metadata": {},
   "outputs": [],
   "source": [
    "def gauss(a, b, func, n=100):\n",
    "    h = abs(b - a) / n\n",
    "    h_2 = h / 2\n",
    "    h_3 = h / (2 * np.sqrt(3))\n",
    "    vals = list()\n",
    "\n",
    "    for x in np.linspace(a, b, n + 1):\n",
    "        vals.append(func(x + h_2 - h_3) + func(x + h_2 + h_3))\n",
    "\n",
    "    return sum(vals[1:-1]) * h_2"
   ]
  },
  {
   "cell_type": "markdown",
   "metadata": {},
   "source": [
    "#### Задача 1.\n",
    "$$ f(x)=x \\cdot e^{x^2} $$  "
   ]
  },
  {
   "cell_type": "code",
   "execution_count": 15,
   "metadata": {},
   "outputs": [
    {
     "name": "stdout",
     "output_type": "stream",
     "text": "трапеций: 26.799238477410114\nпрямоугольников: 26.908434777476252\nСимпсона: 26.799075017687933\nГаусса: 26.79907301652162\n"
    }
   ],
   "source": [
    "def func_1(x):\n",
    "    return x * np.exp(x ** 2)\n",
    "\n",
    "\n",
    "print('трапеций:', trapeze(0, 2, func_1, 1000))\n",
    "print('прямоугольников:', rectangle(0, 2, func_1, 1000))\n",
    "print('Симпсона:', simpson(0, 2, func_1, 1000))\n",
    "print('Гаусса:', gauss(0, 2, func_1, 1000))"
   ]
  },
  {
   "cell_type": "markdown",
   "metadata": {},
   "source": [
    "## Многомерные интегралы\n",
    "$$ \\iint_{D} f(x,y)ds \\approx \\int_a^b \\int_c^d f(x,y)dxdy = \\sum_{i=0}^{n_1-1} \\sum_{j=0}^{n_2-1} f(x_i, y_i) \\Delta s $$ \n",
    "$$ x_i=a+\\frac{b-a}{h_1} \\cdot i $$ \n",
    "$$ y_j=c+\\frac{d-c}{h_2} \\cdot j $$ \n",
    "$$ \\Delta s = h_1 \\cdot h_2 $$ "
   ]
  },
  {
   "cell_type": "code",
   "execution_count": 16,
   "metadata": {},
   "outputs": [],
   "source": [
    "def simple(a, b, c_func, d_func, func, delta):\n",
    "    s = 0\n",
    "\n",
    "    for x in np.arange(a, b, delta):\n",
    "        for y in np.arange(c_func(x), d_func(x), delta):\n",
    "            s += func(x, y) * delta ** 2\n",
    "    \n",
    "    return s"
   ]
  },
  {
   "cell_type": "markdown",
   "metadata": {},
   "source": [
    "#### Задача 2.\n",
    "$$ \\iint_{D} (x^2+xy+y^2)dxdy $$ \n",
    "$$ D=\\{ (x,y) \\colon x^2 \\leq y \\leq 1, -1 \\leq x \\leq 1 \\} $$ "
   ]
  },
  {
   "cell_type": "code",
   "execution_count": 18,
   "metadata": {},
   "outputs": [
    {
     "name": "stdout",
     "output_type": "stream",
     "text": "Результат задачи 2: 0.8385306679386823\n"
    }
   ],
   "source": [
    "def c(x):\n",
    "    return x ** 2\n",
    "\n",
    "\n",
    "def d(x):\n",
    "    return 1\n",
    "\n",
    "\n",
    "def func_2(x, y):\n",
    "    return x ** 2 + x * y + y ** 2\n",
    "\n",
    "\n",
    "print('Результат задачи 2:', simple(-1, 1, c, d, func_2, 0.001))"
   ]
  }
 ]
}